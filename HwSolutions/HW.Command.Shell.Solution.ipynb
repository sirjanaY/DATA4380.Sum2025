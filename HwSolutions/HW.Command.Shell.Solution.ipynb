{
 "cells": [
  {
   "cell_type": "markdown",
   "id": "39caae18",
   "metadata": {},
   "source": [
    "# Unix Shell\n",
    "\n",
    "There is a lot that can be done on the Unix shell command prompt. For homework, we will do some useful manipulations of CSV files.\n",
    "\n",
    "There is plenty of material online that will help you figure out how to do various tasks on the command line. Some example resources I found by googling:\n",
    "\n",
    "* Paths and Wildcards: https://www.warp.dev/terminus/linux-wildcards\n",
    "* General introduction to shell: https://github-pages.ucl.ac.uk/RCPSTrainingMaterials/HPCandHTCusingLegion/2_intro_to_shell.html\n",
    "* Manual pages: https://www.geeksforgeeks.org/linux-man-page-entries-different-types/?ref=ml_lbp\n",
    "* Chaining commands: https://www.geeksforgeeks.org/chaining-commands-in-linux/?ref=ml_lbp\n",
    "* Piping: https://www.geeksforgeeks.org/piping-in-unix-or-linux/\n",
    "* Using sed: https://www.geeksforgeeks.org/sed-command-linux-set-2/?ref=ml_lbp\n",
    "* Various Unix commands: https://www.geeksforgeeks.org/linux-commands/?ref=lbp\n",
    "* Cheat sheets:\n",
    "    * https://www.stationx.net/unix-commands-cheat-sheet/\n",
    "    * https://cheatography.com/davechild/cheat-sheets/linux-command-line/\n",
    "    * https://www.theknowledgeacademy.com/blog/unix-commands-cheat-sheet/\n",
    "    \n",
    "These aren't necessarily the best resources. Feel free to search for better ones. Also, don't forget that Unix has built-in manual pages for all of its commands. Just type `man <command>` at the command prompt. Use the space-bar to scroll through the documentation and \"q\" to exit."
   ]
  },
  {
   "cell_type": "markdown",
   "id": "aeecdac8",
   "metadata": {},
   "source": [
    "## Homework (Due Friday 6/13)\n",
    "\n",
    "\n",
    "### Exercises        \n",
    " "
   ]
  },
  {
   "cell_type": "markdown",
   "id": "97a43b60",
   "metadata": {},
   "source": [
    "1. Organize your dataset directory. Make a new directory for the original zip files, and move the files there. In case you accidentally mess up one of the CSV files, you'll be able unzip the data again. \n",
    "\n",
    "Hint: use `mkdir` and `mv` commands with appropriate wildcards."
   ]
  },
  {
   "cell_type": "code",
   "execution_count": null,
   "id": "ebf01c3b",
   "metadata": {},
   "outputs": [],
   "source": [
    "mkdir -p csv_files zip_files backup_files\n",
    "mkdir -p zip_files\n",
    "mv *.zip zip_files"
   ]
  },
  {
   "cell_type": "code",
   "execution_count": null,
   "id": "c65b9191",
   "metadata": {},
   "outputs": [],
   "source": [
    "cd csv_files"
   ]
  },
  {
   "cell_type": "markdown",
   "id": "8fa98cde",
   "metadata": {},
   "source": [
    "2. The \"diabetes_prediction_dataset.csv\" file has a lot of entries. Create 3 new CSV files, each with about 1/3 of the data.\n",
    "\n",
    "Hints: \n",
    "* Use `head` to get first line.  \n",
    "* First create 3 files with just the first line by redirecting output of `head` into a file using `>`.\n",
    "* Use `wc` to count the number of entries\n",
    "* Chain/pipe `head` and `tail` to select specific lines, redirecting output to append to the 3 files you created using `>>`.\n"
   ]
  },
  {
   "cell_type": "code",
   "execution_count": null,
   "id": "1dbacaa5",
   "metadata": {},
   "outputs": [],
   "source": [
    "head -n 1 diabetes_prediction_dataset.csv > part1.csv\n",
    "head -n 1 diabetes_prediction_dataset.csv > part2.csv\n",
    "head -n 1 diabetes_prediction_dataset.csv > part3.csv"
   ]
  },
  {
   "cell_type": "code",
   "execution_count": null,
   "id": "4be4ebbe",
   "metadata": {},
   "outputs": [],
   "source": [
    "tail -n +2 diabetes_prediction_dataset.csv | wc -l"
   ]
  },
  {
   "cell_type": "code",
   "execution_count": null,
   "id": "a7fa9431",
   "metadata": {},
   "outputs": [],
   "source": [
    "tail -n +2 diabetes_prediction_dataset.csv | head -n 33333 >> part1.csv\n",
    "tail -n +33335 diabetes_prediction_dataset.csv | head -n 33333 >> part2.csv\n",
    "tail -n +66668 diabetes_prediction_dataset.csv >> part3.csv\n"
   ]
  },
  {
   "cell_type": "markdown",
   "id": "012cd1e1",
   "metadata": {},
   "source": [
    "3. Create 2 new CSV files from `Heart_Disease_Prediction.csv`, one containing rows with \"Presence\" label and another with \"Absence\" label. Make sure that the first line of each file contains the field names. \n",
    "\n",
    "Hints: \n",
    "* Use `head` to get first line.  \n",
    "* First create 2 files with just the first line by redirecting output of `head` into a file using `>`.\n",
    "* Use `grep` to select lines that contain \"Absence\" or \"Presence\" and append the output to the appropriate file created in the previous step."
   ]
  },
  {
   "cell_type": "code",
   "execution_count": null,
   "id": "403e550e",
   "metadata": {},
   "outputs": [],
   "source": [
    "head -n 1 Heart_Disease_Prediction.csv > presence.csv\n",
    "head -n 1 Heart_Disease_Prediction.csv > absence.csv\n"
   ]
  },
  {
   "cell_type": "code",
   "execution_count": null,
   "id": "3703de23",
   "metadata": {},
   "outputs": [],
   "source": [
    "grep \"Presence\" Heart_Disease_Prediction.csv >> presence.csv\n",
    "grep \"Absence\" Heart_Disease_Prediction.csv >> absence.csv"
   ]
  },
  {
   "cell_type": "markdown",
   "id": "decd026d",
   "metadata": {},
   "source": [
    "\n",
    "4. What fraction of cars in `car_web_scraped_dataset.csv` have had no accidents?\n",
    "\n",
    "Hints:\n",
    "* Use `grep` to select the appropriate lines.\n",
    "* Pipe the output of grep into `wc` (using `|`) to count the lines."
   ]
  },
  {
   "cell_type": "code",
   "execution_count": null,
   "id": "d179c768",
   "metadata": {},
   "outputs": [],
   "source": [
    "total=$(wc -l < car_web_scraped_dataset.csv)\n",
    "no_accidents=$(grep -i \"no accident\" car_web_scraped_dataset.csv | wc -l)\n",
    "echo \"$no_accidents / $total\" | bc -l"
   ]
  },
  {
   "cell_type": "markdown",
   "id": "a782f783",
   "metadata": {},
   "source": [
    "5. Make the following replacements in `Housing.csv`, output the result into a new CSV:\n",
    "\n",
    "* yes -> 1\n",
    "* no -> 0\n",
    "* unfurnished -> 0\n",
    "* furnished -> 1\n",
    "* semi-furnished -> 2\n",
    "    \n",
    "Hints:\n",
    "* Use `sed` to do the replacement.\n",
    "* Use pipes to chain multiple `sed` commands.\n",
    "* To avoid replacing \"unfurnished\" or \"semi-furnished\" when performing the \"furnished\" replacement, try replacing \",furnished\" with \",1\".\n"
   ]
  },
  {
   "cell_type": "code",
   "execution_count": null,
   "id": "586bded8",
   "metadata": {},
   "outputs": [],
   "source": [
    "cat Housing.csv | sed 's/,yes/,1/g' | sed 's/,no/,0/g' \\\n",
    "| sed 's/,unfurnished/,0/g' | sed 's/,semi-furnished/,2/g' \\\n",
    "| sed 's/,furnished/,1/g' > Housing_cleaned.csv"
   ]
  },
  {
   "cell_type": "markdown",
   "id": "4b2a6e9c",
   "metadata": {},
   "source": [
    "6. Create a new CSV files from `Mall_Customers`, removing \"CustomerID\" column.\n",
    "\n",
    "Hints:\n",
    "* Use `cut` command\n",
    "* Default separator for `cut` is the space character. For CSV, you have to use option `-d ','`.\n"
   ]
  },
  {
   "cell_type": "code",
   "execution_count": null,
   "id": "e7ceb09f",
   "metadata": {},
   "outputs": [],
   "source": [
    "cut -d ',' -f2- Mall_Customers.csv > Mall_Customers_trimmed.csv\n"
   ]
  },
  {
   "cell_type": "markdown",
   "id": "ad0d707e",
   "metadata": {},
   "source": [
    "7. Create a new file that contains the sum of the following fields for each row:\n",
    "    * Research Quality Score\n",
    "    * Industry Score\n",
    "    * International Outlook\n",
    "    * Research Environment Score\n",
    "    \n",
    "Hints:\n",
    "* Use `cut` to select the correct columns.\n",
    "* Use `tr` to replace ',' with '+'.\n",
    "* Pipe output into `bc` to compute the sum."
   ]
  },
  {
   "cell_type": "code",
   "execution_count": null,
   "id": "41c35036",
   "metadata": {},
   "outputs": [],
   "source": [
    "tail -n +2 \"world all university rank and rank score.csv\" \\\n",
    "| cut -d ',' -f5,6,8,10 \\\n",
    "| tr ',' '+' \\\n",
    "| bc > scores_summed.txt"
   ]
  },
  {
   "cell_type": "markdown",
   "id": "bc35e879",
   "metadata": {},
   "source": [
    "8. Sort the `cancer patient data sets.csv` file by age. Make sure the output is a readable CSV file.\n",
    "\n",
    "Hints:\n",
    "* Use sort with `-n`, `-t`, and `-k` options. "
   ]
  },
  {
   "cell_type": "code",
   "execution_count": null,
   "id": "00cf840f",
   "metadata": {},
   "outputs": [],
   "source": [
    "head -n 1 \"cancer patient data sets.csv\" > cancer_sorted.csv\n",
    "tail -n +2 \"cancer patient data sets.csv\" | sort -t ',' -k2 -n >> cancer_sorted.csv\n"
   ]
  },
  {
   "cell_type": "markdown",
   "id": "416c399a",
   "metadata": {},
   "source": [
    "Saving code"
   ]
  },
  {
   "cell_type": "code",
   "execution_count": null,
   "id": "7a9ac370",
   "metadata": {},
   "outputs": [],
   "source": [
    "nano allCommands.txt"
   ]
  }
 ],
 "metadata": {
  "kernelspec": {
   "display_name": "Python 3 (ipykernel)",
   "language": "python",
   "name": "python3"
  },
  "language_info": {
   "codemirror_mode": {
    "name": "ipython",
    "version": 3
   },
   "file_extension": ".py",
   "mimetype": "text/x-python",
   "name": "python",
   "nbconvert_exporter": "python",
   "pygments_lexer": "ipython3",
   "version": "3.12.3"
  }
 },
 "nbformat": 4,
 "nbformat_minor": 5
}
